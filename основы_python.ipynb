{
  "cells": [
    {
      "cell_type": "markdown",
      "metadata": {
        "id": "M-DGa20PaHnu"
      },
      "source": [
        "#Задача 1\n",
        "Написать функцию на вход которой подается строка, состоящая из латинских букв.\n",
        "Функция должна вернуть количество гласных букв (a, e, i, o, u) в этой строке. Написать тесты для кода"
      ]
    },
    {
      "cell_type": "code",
      "execution_count": null,
      "metadata": {
        "id": "XvX8X_JJ6PCb"
      },
      "outputs": [],
      "source": [
        "# Your code goes here\n",
        "def count_Vowels(text):\n",
        "    count = 0\n",
        "    for char in text:\n",
        "        if char in 'aeiou':\n",
        "            count += 1\n",
        "    return count\n",
        "print(count_Vowels('asedrxiunbm')) #4\n",
        "print(count_Vowels('zen')) #1\n",
        "print(count_Vowels('sdrg')) #0\n"
      ]
    },
    {
      "cell_type": "markdown",
      "metadata": {
        "id": "t2ClV_Y0bbr6"
      },
      "source": [
        "# Задача 2\n",
        "Написать функцию на вход, которой подается строка. Функция должна вернуть true, если\n",
        "каждый символ в строке встречается только 1 раз, иначе должна вернуть false. Написать тесты для кода"
      ]
    },
    {
      "cell_type": "code",
      "execution_count": null,
      "metadata": {
        "id": "FppbECao6VIz"
      },
      "outputs": [],
      "source": [
        "# Your code goes here\n",
        "def character_IsOneCount(string):\n",
        "    return len(string) == len(set(string))\n",
        "\n",
        "print(character_IsOneCount('abcdefg')) #True\n",
        "print(character_IsOneCount('aabcdeffdht')) #False\n",
        "print(character_IsOneCount('asded')) #False\n"
      ]
    },
    {
      "cell_type": "markdown",
      "metadata": {
        "id": "udRiIK1cdt6E"
      },
      "source": [
        "# Задача 3\n",
        "Написать функцию, которая принимает положительное число и возвращает количество\n",
        "бит равных 1 в этом числе. Написать тесты для кода"
      ]
    },
    {
      "cell_type": "code",
      "execution_count": 2,
      "metadata": {
        "id": "6tkfDJRz6dp_"
      },
      "outputs": [
        {
          "name": "stdout",
          "output_type": "stream",
          "text": [
            "2\n",
            "5\n"
          ]
        }
      ],
      "source": [
        "# Your code goes here\n",
        "def number_One_Bit(num):\n",
        "    return bin(num).count('1')\n",
        "\n",
        "print(number_One_Bit(12)) #2\n",
        "print(number_One_Bit(143)) #5"
      ]
    },
    {
      "cell_type": "markdown",
      "metadata": {
        "id": "26dDUz-Ae17N"
      },
      "source": [
        "# Задача 4\n",
        "Написать функцию, которая принимает положительное число. Функция должна вернуть то,\n",
        "сколько раз необходимо перемножать цифры числа или результат перемножения, чтобы\n",
        "получилось число состоящее из одной цифры.\n",
        "Например, для входного числа:\n",
        "· 39 функция должна вернуть 3, так как 3*9=27 => 2*7=14 => 1*4=4\n",
        "· 4 функция должна вернуть 0, так как число уже состоит из одной цифры\n",
        "· 999 функция должна вернуть 4, так как 9*9*9=729 => 7*2*9=126 => 1*2*6=12 =>\n",
        "1*2=2. Написать тесты для кода"
      ]
    },
    {
      "cell_type": "code",
      "execution_count": 5,
      "metadata": {
        "id": "BH1A_Mgi6i4G"
      },
      "outputs": [
        {
          "name": "stdout",
          "output_type": "stream",
          "text": [
            "4\n",
            "3\n",
            "0\n"
          ]
        }
      ],
      "source": [
        "def magic(n):\n",
        "    count = 0\n",
        "    while n > 10:\n",
        "        multiplier = 1\n",
        "        for dig in str(n):\n",
        "            multiplier *= int(dig)\n",
        "        n = multiplier\n",
        "        count += 1\n",
        "    return count\n",
        "print(magic(999)) #4\n",
        "print(magic(39)) #3\n",
        "print(magic(8)) #0\n",
        "        "
      ]
    },
    {
      "cell_type": "markdown",
      "metadata": {
        "id": "0nS-kIa8g8vd"
      },
      "source": [
        "# Задача 5\n",
        "Написать функцию, которая принимает два целочисленных вектора одинаковой длины и\n",
        "возвращает среднеквадратическое отклонение двух векторов. Написать тесты для кода"
      ]
    },
    {
      "cell_type": "code",
      "execution_count": 10,
      "metadata": {
        "id": "8iphx4LM6xbx"
      },
      "outputs": [
        {
          "name": "stdout",
          "output_type": "stream",
          "text": [
            "3.0\n",
            "5.0\n"
          ]
        }
      ],
      "source": [
        "import math\n",
        "\n",
        "\n",
        "def mse(pred, true):\n",
        "    n = len(pred)\n",
        "    sum_squr_vek = sum((pred[i] - true[i])**2 for i in range(n))\n",
        "    return math.sqrt(sum_squr_vek / n)\n",
        "\n",
        "v1 = [1, 2, 3]\n",
        "v2 = [4, 5, 6]\n",
        "print(mse(v1, v2)) #3\n",
        "v1 = [1, 2, 3, 4, 5]\n",
        "v2 = [6, 7, 8, 9, 10]\n",
        "print(mse(v1, v2)) #5"
      ]
    },
    {
      "cell_type": "markdown",
      "metadata": {
        "id": "vpIPKL439zkw"
      },
      "source": [
        "# Задача 6\n",
        "Написать функцию, принимающая целое положительное число. Функция должна вернуть\n",
        "строку вида “(n1**p1)(n2**p2)…(nk**pk)” представляющая разложение числа на простые\n",
        "множители (если pi == 1, то выводить только ni).\n",
        "Например, для числа 86240 функция должна вернуть “(2**5)(5)(7**2)(11)”. Написать тесты для кода"
      ]
    },
    {
      "cell_type": "code",
      "execution_count": 1,
      "metadata": {
        "id": "pFebmcZk94Jw"
      },
      "outputs": [
        {
          "name": "stdout",
          "output_type": "stream",
          "text": [
            "(2**5)(5)(7**2)(11)\n",
            "(2**3)(3)(607)\n"
          ]
        }
      ],
      "source": [
        "# Your code goes here\n",
        "def factorization_prime(n):\n",
        "    def is_prime(num):\n",
        "        if num < 2:\n",
        "            return False\n",
        "        for i in range(2, int(num ** 0.5) + 1):\n",
        "            if num % i == 0:\n",
        "                return False\n",
        "        return True\n",
        "    \n",
        "    primes = [i for i in range(2, int(n ** 0.5) + 1) if is_prime(i)]\n",
        "    factors = []\n",
        "    for p in primes:\n",
        "        count = 0\n",
        "        while n % p == 0:\n",
        "            n //= p\n",
        "            count += 1\n",
        "        if count > 0:\n",
        "            if count == 1:\n",
        "                factors.append(f'({str(p)})')\n",
        "            else:\n",
        "                factors.append(f\"({p}**{count})\")\n",
        "    if n > 1:\n",
        "        factors.append(f'({str(n)})')\n",
        "\n",
        "    return \"\".join(factor for factor in factors)\n",
        "\n",
        "print(factorization_prime(86240)) #(2**5)(5)(7**2)(11)\n",
        "print(factorization_prime(14568)) #(2**3)(3)(607)\n"
      ]
    },
    {
      "cell_type": "markdown",
      "metadata": {
        "id": "ps2s0BudX7A2"
      },
      "source": [
        "# Задача 7\n",
        "Написать функцию, принимающая целое число n, задающее количество кубиков. Функция\n",
        "должна определить, можно ли из данного кол-ва кубиков построить пирамиду, то есть\n",
        "можно ли представить число n как 1^2+2^2+3^2+…+k^2. Если можно, то функция должна\n",
        "вернуть k, иначе строку “It is impossible”. Написать тесты для кода"
      ]
    },
    {
      "cell_type": "code",
      "execution_count": 21,
      "metadata": {
        "id": "3YPjEXxhX_YT"
      },
      "outputs": [
        {
          "name": "stdout",
          "output_type": "stream",
          "text": [
            "3\n",
            "9\n",
            "It is impossible\n"
          ]
        }
      ],
      "source": [
        "def pyramid(number):\n",
        "    k = 1\n",
        "    total = 0\n",
        "    while total < number:\n",
        "        total += k**2\n",
        "        if total == number:\n",
        "            return k\n",
        "        k += 1\n",
        "    return 'It is impossible'\n",
        "\n",
        "print(pyramid(14)) #3\n",
        "print(pyramid(285)) #9\n",
        "print(pyramid(2)) #It is impossible"
      ]
    },
    {
      "cell_type": "markdown",
      "metadata": {
        "id": "KeKgmIdAQMEJ"
      },
      "source": [
        "# Задача 8\n",
        "Функция принимает на вход положительное число и определяет является ли оно сбалансированным, т.е. сумма цифр до средних равна сумме цифр после. Средними в случае нечетного числа цифр считать одну цифру, в случае четного - две средних. Написать тесты для кода"
      ]
    },
    {
      "cell_type": "code",
      "execution_count": 26,
      "metadata": {
        "id": "gMAAqtqlQrZt"
      },
      "outputs": [
        {
          "name": "stdout",
          "output_type": "stream",
          "text": [
            "True\n",
            "False\n",
            "True\n",
            "True\n"
          ]
        }
      ],
      "source": [
        "def number_Is_balanced(number):\n",
        "    digit = [int(i) for i in str(number)]\n",
        "    average = len(digit) // 2\n",
        "    if len(digit) % 2 == 0:\n",
        "        left_sum = sum(digit[:average - 1])\n",
        "        right_sum = sum(digit[average + 1:])\n",
        "    else:\n",
        "        left_sum = sum(digit[:average])\n",
        "        right_sum = sum(digit[average + 1:])\n",
        "    return left_sum == right_sum\n",
        "\n",
        "print(number_Is_balanced(5)) #True\n",
        "print(number_Is_balanced(1234)) #False\n",
        "print(number_Is_balanced(12321)) #True\n",
        "print(number_Is_balanced(123412)) #True"
      ]
    }
  ],
  "metadata": {
    "colab": {
      "provenance": []
    },
    "kernelspec": {
      "display_name": "Python 3",
      "name": "python3"
    },
    "language_info": {
      "codemirror_mode": {
        "name": "ipython",
        "version": 3
      },
      "file_extension": ".py",
      "mimetype": "text/x-python",
      "name": "python",
      "nbconvert_exporter": "python",
      "pygments_lexer": "ipython3",
      "version": "3.12.3"
    }
  },
  "nbformat": 4,
  "nbformat_minor": 0
}
